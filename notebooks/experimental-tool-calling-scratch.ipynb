{
 "cells": [
  {
   "cell_type": "markdown",
   "metadata": {},
   "source": [
    "# Llama 3.1 Tool Calling "
   ]
  },
  {
   "cell_type": "markdown",
   "metadata": {},
   "source": [
    "![](./assets-resources/llama-tool-calling-flow.png)"
   ]
  },
  {
   "cell_type": "code",
   "execution_count": 15,
   "metadata": {},
   "outputs": [
    {
     "name": "stderr",
     "output_type": "stream",
     "text": [
      "huggingface/tokenizers: The current process just got forked, after parallelism has already been used. Disabling parallelism to avoid deadlocks...\n",
      "To disable this warning, you can either:\n",
      "\t- Avoid using `tokenizers` before the fork if possible\n",
      "\t- Explicitly set the environment variable TOKENIZERS_PARALLELISM=(true | false)\n"
     ]
    },
    {
     "name": "stdout",
     "output_type": "stream",
     "text": [
      "^C\n"
     ]
    }
   ],
   "source": [
    "!pip install -q -U huggingface_hub transformers accelerate bitsandbytes huggingface"
   ]
  },
  {
   "cell_type": "code",
   "execution_count": 2,
   "metadata": {},
   "outputs": [
    {
     "data": {
      "application/vnd.jupyter.widget-view+json": {
       "model_id": "cc70ccd4ce3b453b828500b48e3cf3ca",
       "version_major": 2,
       "version_minor": 0
      },
      "text/plain": [
       "Loading checkpoint shards:   0%|          | 0/4 [00:00<?, ?it/s]"
      ]
     },
     "metadata": {},
     "output_type": "display_data"
    }
   ],
   "source": [
    "from transformers import AutoTokenizer, AutoModelForCausalLM\n",
    "\n",
    "tokenizer = AutoTokenizer.from_pretrained(\"meta-llama/Meta-Llama-3.1-8B-Instruct\")\n",
    "model = AutoModelForCausalLM.from_pretrained(\"meta-llama/Meta-Llama-3.1-8B-Instruct\")"
   ]
  },
  {
   "cell_type": "code",
   "execution_count": 3,
   "metadata": {},
   "outputs": [],
   "source": [
    "PROMPT = \"\"\"\n",
    "<|begin_of_text|><|start_header_id|>system<|end_header_id|>\n",
    "Environment: ipython\n",
    "Tools: brave_search\n",
    "Cutting Knowledge Date: December 2023\n",
    "Today Date: 25 Jul 2024\n",
    "\n",
    "You are a helpful assistant<|eot_id|>\n",
    "<|start_header_id|>user<|end_header_id|>\n",
    "\n",
    "Who won the T20 World Cup?<|eot_id|><|start_header_id|>assistant<|end_header_id|>\n",
    "\"\"\""
   ]
  },
  {
   "cell_type": "code",
   "execution_count": 6,
   "metadata": {},
   "outputs": [
    {
     "name": "stderr",
     "output_type": "stream",
     "text": [
      "Setting `pad_token_id` to `eos_token_id`:128001 for open-end generation.\n"
     ]
    },
    {
     "name": "stdout",
     "output_type": "stream",
     "text": [
      "************\n",
      "<|begin_of_text|>\n",
      "<|begin_of_text|><|start_header_id|>system<|end_header_id|>\n",
      "Environment: ipython\n",
      "Tools: brave_search\n",
      "Cutting Knowledge Date: December 2023\n",
      "Today Date: 25 Jul 2024\n",
      "\n",
      "You are a helpful assistant<|eot_id|>\n",
      "<|start_header_id|>user<|end_header_id|>\n",
      "\n",
      "Who won the T20 World Cup?<|eot_id|><|start_header_id|>assistant<|end_header_id|>\n",
      "<|python_tag|>brave_search.call(query=\"T20 World Cup winner\")<|eom_id|>\n"
     ]
    }
   ],
   "source": [
    "input_ids = tokenizer(PROMPT, return_tensors=\"pt\")\n",
    "response = model.generate(**input_ids, max_length=512)\n",
    "extracted_text = tokenizer.decode(response[0])\n",
    "print(\"************\")\n",
    "print(extracted_text)"
   ]
  },
  {
   "cell_type": "code",
   "execution_count": 7,
   "metadata": {},
   "outputs": [
    {
     "name": "stdout",
     "output_type": "stream",
     "text": [
      "T20 World Cup winner\n"
     ]
    }
   ],
   "source": [
    "def extract_query(input_string):\n",
    "    start_index = input_string.find('=') + 1\n",
    "    end_index = input_string.find(')')\n",
    "    query = input_string[start_index:end_index]\n",
    "    return query.strip('\"')\n",
    "\n",
    "input_string = '<|python_tag|>brave_search.call(query=\"T20 World Cup winner\")'\n",
    "print(extract_query(input_string))"
   ]
  },
  {
   "cell_type": "code",
   "execution_count": 9,
   "metadata": {},
   "outputs": [
    {
     "name": "stdout",
     "output_type": "stream",
     "text": [
      "[{\"title\": \"T20 World Cup Winners List from 2007-2024 - Sportskeeda\", \"href\": \"https://www.sportskeeda.com/cricket/t20-world-cup-winners\", \"body\": \"Find out which teams have won the T20 World Cup since 2007 and how they achieved their glory. See the details of each edition, including the final results, margins, players, venues, and hosts.\"}, {\"title\": \"ICC Men's T20 World Cup - Wikipedia\", \"href\": \"https://en.wikipedia.org/wiki/ICC_Men's_T20_World_Cup\", \"body\": \"The ICC Men's T20 World Cup (formerly the ICC World Twenty20) is a biennial Twenty20 International cricket tournament, ... For the first time, a host nation competed in the final of the ICC World Twenty20. There were 12 participants for the title including Ireland and Afghanistan as 2012 ICC World Twenty20 Qualifier. It was the first time the ...\"}, {\"title\": \"India wins men's T20 World Cup, defeating South Africa in dramatic final\", \"href\": \"https://www.cnn.com/2024/06/29/sport/india-south-africa-t20-mens-world-cup-final-spt-intl/index.html\", \"body\": \"India produced a brilliant performance to defeat South Africa in a dramatic men's T20 World Cup final, ending a long 13-year wait for the cricket-obsessed nation since its last World Cup win.\"}, {\"title\": \"England win T20 World Cup with dramatic victory in final against ... - CNN\", \"href\": \"https://www.cnn.com/2022/11/13/sport/england-pakistan-t20-world-cup-final-spt-intl/index.html\", \"body\": \"England won the T20 World Cup Final in sensational style, defeating Pakistan by five wickets in front of more than 80,000 fans at the Melbourne Cricket Ground on Sunday.\"}, {\"title\": \"T20 World Cup final: Australia wins first title with emphatic victory ...\", \"href\": \"https://www.cnn.com/2021/11/14/sport/t20-world-cup-final-new-zealand-australia-spt-intl/index.html\", \"body\": \"CNN \\u2014. Australia won its first T20 World Cup title after beating New Zealand by eight wickets in the final on Sunday. In what was an Oceanic clash, Australia looked to be cruising to the 173 ...\"}]\n"
     ]
    }
   ],
   "source": [
    "# !pip install duckduckgo-search\n",
    "from duckduckgo_search import DDGS\n",
    "import json\n",
    "\n",
    "tool_args = extract_query(extracted_text)\n",
    "web_tool_response = json.dumps(DDGS().text(tool_args, max_results=5))\n",
    "print(web_tool_response)"
   ]
  },
  {
   "cell_type": "markdown",
   "metadata": {},
   "source": [
    "# Putting it all together"
   ]
  },
  {
   "cell_type": "markdown",
   "metadata": {},
   "source": [
    "**Optional Exercise:**\n",
    "\n",
    "Integrating into a FastAPI app?"
   ]
  },
  {
   "cell_type": "code",
   "execution_count": null,
   "metadata": {},
   "outputs": [],
   "source": [
    "# from fastapi import FastAPI, Request\n",
    "# import uvicorn\n",
    "\n",
    "# app = FastAPI()\n",
    "\n",
    "# @app.post(\"/chat\")\n",
    "# async def chat(request: Request):\n",
    "#     data = await request.json()\n",
    "#     user_message = data['message']\n",
    "#     prompt = f\"<|begin_of_text|><|start_header_id|>system<|end_header_id|>You are a helpful assistant.<|eot_id|><|start_header_id|>user<|end_header_id|>{user_message}<|eot_id|><|start_header_id|>assistant<|end_header_id|>\"\n",
    "#     input_ids = tokenizer(prompt, return_tensors=\"pt\").to(\"cuda\")\n",
    "#     response = model.generate(**input_ids, max_length=512)\n",
    "#     generated_text = tokenizer.decode(response[0], skip_special_tokens=True)\n",
    "#     return {\"response\": generated_text}\n",
    "\n",
    "# if __name__ == \"__main__\":\n",
    "#     uvicorn.run(app, host=\"0.0.0.0\", port=8000)"
   ]
  }
 ],
 "metadata": {
  "kernelspec": {
   "display_name": "oreilly-llama3",
   "language": "python",
   "name": "oreilly-llama3"
  },
  "language_info": {
   "codemirror_mode": {
    "name": "ipython",
    "version": 3
   },
   "file_extension": ".py",
   "mimetype": "text/x-python",
   "name": "python",
   "nbconvert_exporter": "python",
   "pygments_lexer": "ipython3",
   "version": "3.10.14"
  }
 },
 "nbformat": 4,
 "nbformat_minor": 2
}
