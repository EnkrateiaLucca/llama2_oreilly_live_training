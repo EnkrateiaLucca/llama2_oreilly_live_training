{
 "cells": [
  {
   "cell_type": "markdown",
   "metadata": {},
   "source": [
    "# Getting Structured Outputs from Llama3 using Ollama "
   ]
  },
  {
   "cell_type": "code",
   "execution_count": null,
   "metadata": {},
   "outputs": [],
   "source": [
    "!pip install -U ollama pydantic"
   ]
  },
  {
   "cell_type": "code",
   "execution_count": 1,
   "metadata": {},
   "outputs": [
    {
     "data": {
      "text/plain": [
       "Task(title='Implement Time Tracking Feature', description='Allow users to log time spent on tasks, with features to pause and resume tracking.', priority='High', estimated_hours=120.0, dependencies=['Database schema update ( #123 )', 'UX redesign ( #456 )'], status='In Progress', assigned_to=None)"
      ]
     },
     "execution_count": 1,
     "metadata": {},
     "output_type": "execute_result"
    }
   ],
   "source": [
    "from ollama import chat\n",
    "from pydantic import BaseModel\n",
    "from typing import Optional, List\n",
    "\n",
    "class Task(BaseModel):\n",
    "    title: str\n",
    "    description: str\n",
    "    priority: str  # \"High\", \"Medium\", \"Low\"\n",
    "    estimated_hours: float\n",
    "    dependencies: List[str] = []\n",
    "    status: str = \"Not Started\"  # \"Not Started\", \"In Progress\", \"Completed\"\n",
    "    assigned_to: Optional[str] = None\n",
    "\n",
    "response = chat(\n",
    "    messages=[\n",
    "        {\n",
    "            'role': 'user',\n",
    "            'content': 'Create a task for implementing a new feature in our project management software that allows users to track time spent on tasks. \\\n",
    "            Include dependencies and make it realistic.',\n",
    "        }\n",
    "    ],\n",
    "    model='llama3.1',\n",
    "    format=Task.model_json_schema(),\n",
    ")\n",
    "\n",
    "task = Task.model_validate_json(response['message']['content'])\n",
    "task"
   ]
  },
  {
   "cell_type": "code",
   "execution_count": 2,
   "metadata": {},
   "outputs": [
    {
     "name": "stdout",
     "output_type": "stream",
     "text": [
      "Task: Implement Time Tracking Feature\n",
      "Priority: High\n",
      "Estimated Hours: 120.0\n",
      "Dependencies: Database schema update ( #123 ), UX redesign ( #456 )\n",
      "Status: In Progress\n"
     ]
    }
   ],
   "source": [
    "print(f\"Task: {task.title}\")\n",
    "print(f\"Priority: {task.priority}\")\n",
    "print(f\"Estimated Hours: {task.estimated_hours}\")\n",
    "print(f\"Dependencies: {', '.join(task.dependencies)}\")\n",
    "print(f\"Status: {task.status}\")"
   ]
  },
  {
   "cell_type": "code",
   "execution_count": 8,
   "metadata": {},
   "outputs": [
    {
     "data": {
      "text/plain": [
       "{'model': 'llama3.2',\n",
       " 'created_at': '2025-03-12T17:56:27.599121Z',\n",
       " 'message': {'role': 'assistant',\n",
       "  'content': '{ \"email_destination\": \"boss_of_lucas@gmail.com\", \"email_contents\": \"<h1>Bird Watching and a New Chapter</h1>Dear {Boss}\\'s Name,\\\\r\\\\n\\\\r\\\\nI am writing to inform you of my decision to resign from my position as [Position] effective [Date]. This was not an easy decision for me, but I have decided that it is time for me to pursue a new passion – bird watching.\\\\r\\\\n\\\\r\\\\nAs many know, birds have always held a special fascination for me. Over the years, I\\'ve had the privilege of observing and learning about various species, and my interest has only grown stronger with each passing day. I feel an overwhelming urge to dedicate myself to this hobby, to explore new territories, and to contribute to the understanding and conservation of bird populations.\\\\r\\\\n\\\\r\\\\nI want to express my gratitude for the opportunities I\\'ve had while working here. I have learned a great deal, both personally and professionally, and I appreciate the experience and connections I\\'ve made during my tenure.\\\\r\\\\n\\\\r\\\\nHowever, I feel that it is essential for me to follow my heart and pursue this new chapter in my life. I am confident that this decision will bring me personal fulfillment and allow me to grow as a person.\\\\r\\\\n\\\\r\\\\nI will do everything possible to ensure a smooth transition of my responsibilities and complete any outstanding tasks before my departure. If there\\'s anything specific you\\'d like me to focus on during my remaining time here, please let me know.\\\\r\\\\n\\\\r\\\\nThank you for your understanding, and I wish the organization continued success in the future.\\\\r\\\\n\\\\r\\\\nSincerely,\\\\r\\\\nLucas\" }'},\n",
       " 'done_reason': 'stop',\n",
       " 'done': True,\n",
       " 'total_duration': 4150213709,\n",
       " 'load_duration': 564051167,\n",
       " 'prompt_eval_count': 49,\n",
       " 'prompt_eval_duration': 159000000,\n",
       " 'eval_count': 347,\n",
       " 'eval_duration': 3426000000}"
      ]
     },
     "execution_count": 8,
     "metadata": {},
     "output_type": "execute_result"
    }
   ],
   "source": [
    "class EmailToolInput(BaseModel):\n",
    "    email_destination: str\n",
    "    email_contents: str\n",
    "\n",
    "\n",
    "prompt = \"\"\"\n",
    "Write an email to my boss: boss_of_lucas@gmail.com, telling him that I quit to pursue bird watching.\n",
    "\"\"\"\n",
    "\n",
    "email_reply_input = chat(\n",
    "    model='llama3.2',\n",
    "    messages=[\n",
    "        {\n",
    "            'role': 'user',\n",
    "            'content': prompt,\n",
    "        }\n",
    "    ],\n",
    "    format=EmailToolInput.model_json_schema(),\n",
    ")\n",
    "\n",
    "email_reply_input"
   ]
  },
  {
   "cell_type": "code",
   "execution_count": 9,
   "metadata": {},
   "outputs": [
    {
     "name": "stdout",
     "output_type": "stream",
     "text": [
      "boss_of_lucas@gmail.com\n",
      "<h1>Bird Watching and a New Chapter</h1>Dear {Boss}'s Name,\n",
      "\n",
      "I am writing to inform you of my decision to resign from my position as [Position] effective [Date]. This was not an easy decision for me, but I have decided that it is time for me to pursue a new passion – bird watching.\n",
      "\n",
      "As many know, birds have always held a special fascination for me. Over the years, I've had the privilege of observing and learning about various species, and my interest has only grown stronger with each passing day. I feel an overwhelming urge to dedicate myself to this hobby, to explore new territories, and to contribute to the understanding and conservation of bird populations.\n",
      "\n",
      "I want to express my gratitude for the opportunities I've had while working here. I have learned a great deal, both personally and professionally, and I appreciate the experience and connections I've made during my tenure.\n",
      "\n",
      "However, I feel that it is essential for me to follow my heart and pursue this new chapter in my life. I am confident that this decision will bring me personal fulfillment and allow me to grow as a person.\n",
      "\n",
      "I will do everything possible to ensure a smooth transition of my responsibilities and complete any outstanding tasks before my departure. If there's anything specific you'd like me to focus on during my remaining time here, please let me know.\n",
      "\n",
      "Thank you for your understanding, and I wish the organization continued success in the future.\n",
      "\n",
      "Sincerely,\n",
      "Lucas\n"
     ]
    }
   ],
   "source": [
    "email_reply_input_json = EmailToolInput.model_validate_json(email_reply_input['message']['content'])\n",
    "print(email_reply_input_json.email_destination)\n",
    "\n",
    "print(email_reply_input_json.email_contents)"
   ]
  },
  {
   "cell_type": "code",
   "execution_count": 10,
   "metadata": {},
   "outputs": [
    {
     "name": "stdout",
     "output_type": "stream",
     "text": [
      "Pretending I am sending an email\n",
      "Sending email to boss_of_lucas@gmail.com with contents: <h1>Bird Watching and a New Chapter</h1>Dear {Boss}'s Name,\n",
      "\n",
      "I am writing to inform you of my decision to resign from my position as [Position] effective [Date]. This was not an easy decision for me, but I have decided that it is time for me to pursue a new passion – bird watching.\n",
      "\n",
      "As many know, birds have always held a special fascination for me. Over the years, I've had the privilege of observing and learning about various species, and my interest has only grown stronger with each passing day. I feel an overwhelming urge to dedicate myself to this hobby, to explore new territories, and to contribute to the understanding and conservation of bird populations.\n",
      "\n",
      "I want to express my gratitude for the opportunities I've had while working here. I have learned a great deal, both personally and professionally, and I appreciate the experience and connections I've made during my tenure.\n",
      "\n",
      "However, I feel that it is essential for me to follow my heart and pursue this new chapter in my life. I am confident that this decision will bring me personal fulfillment and allow me to grow as a person.\n",
      "\n",
      "I will do everything possible to ensure a smooth transition of my responsibilities and complete any outstanding tasks before my departure. If there's anything specific you'd like me to focus on during my remaining time here, please let me know.\n",
      "\n",
      "Thank you for your understanding, and I wish the organization continued success in the future.\n",
      "\n",
      "Sincerely,\n",
      "Lucas\n"
     ]
    }
   ],
   "source": [
    "def send_email(email_destination: str, email_contents: str):\n",
    "    print(\"Pretending I am sending an email\")\n",
    "    print(f\"Sending email to {email_destination} with contents: {email_contents}\")\n",
    "\n",
    "send_email(email_reply_input_json.email_destination, email_reply_input_json.email_contents)"
   ]
  },
  {
   "cell_type": "code",
   "execution_count": null,
   "metadata": {},
   "outputs": [],
   "source": []
  },
  {
   "cell_type": "code",
   "execution_count": null,
   "metadata": {},
   "outputs": [],
   "source": []
  },
  {
   "cell_type": "markdown",
   "metadata": {},
   "source": [
    "We can turn this structured output functionality into a function calling pipeline."
   ]
  }
 ],
 "metadata": {
  "kernelspec": {
   "display_name": "oreilly-llama3",
   "language": "python",
   "name": "oreilly-llama3"
  },
  "language_info": {
   "codemirror_mode": {
    "name": "ipython",
    "version": 3
   },
   "file_extension": ".py",
   "mimetype": "text/x-python",
   "name": "python",
   "nbconvert_exporter": "python",
   "pygments_lexer": "ipython3",
   "version": "3.10.14"
  }
 },
 "nbformat": 4,
 "nbformat_minor": 2
}
