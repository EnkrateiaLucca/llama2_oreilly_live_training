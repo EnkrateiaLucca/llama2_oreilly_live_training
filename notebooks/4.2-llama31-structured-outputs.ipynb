{
 "cells": [
  {
   "cell_type": "markdown",
   "metadata": {},
   "source": [
    "# Getting Structured Outputs from Llama3 using Ollama "
   ]
  },
  {
   "cell_type": "code",
   "execution_count": null,
   "metadata": {},
   "outputs": [],
   "source": [
    "!pip install -U ollama pydantic"
   ]
  },
  {
   "cell_type": "code",
   "execution_count": 6,
   "metadata": {},
   "outputs": [
    {
     "name": "stdout",
     "output_type": "stream",
     "text": [
      "Task: Implement Time Tracking Feature\n",
      "Priority: High\n",
      "Estimated Hours: 120.0\n",
      "Dependencies: \n",
      "Status: Not Started\n"
     ]
    }
   ],
   "source": [
    "from ollama import chat\n",
    "from pydantic import BaseModel\n",
    "from typing import Optional, List\n",
    "\n",
    "class Task(BaseModel):\n",
    "    title: str\n",
    "    description: str\n",
    "    priority: str  # \"High\", \"Medium\", \"Low\"\n",
    "    estimated_hours: float\n",
    "    dependencies: List[str] = []\n",
    "    status: str = \"Not Started\"  # \"Not Started\", \"In Progress\", \"Completed\"\n",
    "    assigned_to: Optional[str] = None\n",
    "\n",
    "response = chat(\n",
    "    messages=[\n",
    "        {\n",
    "            'role': 'user',\n",
    "            'content': 'Create a task for implementing a new feature in our project management software that allows users to track time spent on tasks. Include dependencies and make it realistic.',\n",
    "        }\n",
    "    ],\n",
    "    model='llama3.1',\n",
    "    format=Task.model_json_schema(),\n",
    ")\n",
    "\n",
    "task = Task.model_validate_json(response['message']['content'])\n",
    "print(f\"Task: {task.title}\")\n",
    "print(f\"Priority: {task.priority}\")\n",
    "print(f\"Estimated Hours: {task.estimated_hours}\")\n",
    "print(f\"Dependencies: {', '.join(task.dependencies)}\")\n",
    "print(f\"Status: {task.status}\")"
   ]
  },
  {
   "cell_type": "markdown",
   "metadata": {},
   "source": [
    "We can turn this structured output functionality into a function calling pipeline."
   ]
  }
 ],
 "metadata": {
  "kernelspec": {
   "display_name": "oreilly-llama3",
   "language": "python",
   "name": "oreilly-llama3"
  },
  "language_info": {
   "codemirror_mode": {
    "name": "ipython",
    "version": 3
   },
   "file_extension": ".py",
   "mimetype": "text/x-python",
   "name": "python",
   "nbconvert_exporter": "python",
   "pygments_lexer": "ipython3",
   "version": "3.10.14"
  }
 },
 "nbformat": 4,
 "nbformat_minor": 2
}
