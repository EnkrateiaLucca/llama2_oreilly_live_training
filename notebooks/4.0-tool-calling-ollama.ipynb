{
 "cells": [
  {
   "cell_type": "code",
   "execution_count": null,
   "metadata": {},
   "outputs": [],
   "source": [
    "%pip install -U ollama openai"
   ]
  },
  {
   "cell_type": "markdown",
   "metadata": {},
   "source": [
    "# "
   ]
  },
  {
   "cell_type": "markdown",
   "metadata": {},
   "source": [
    "# Simple Tool Calling for LLM + GMAIL"
   ]
  },
  {
   "cell_type": "code",
   "execution_count": 1,
   "metadata": {},
   "outputs": [
    {
     "name": "stdout",
     "output_type": "stream",
     "text": [
      "Email sent successfully!\n"
     ]
    }
   ],
   "source": [
    "import smtplib\n",
    "from email.mime.text import MIMEText\n",
    "from email.mime.multipart import MIMEMultipart\n",
    "import os\n",
    "from datetime import datetime\n",
    "\n",
    "# Email credentials and SMTP settings\n",
    "smtp_server = \"smtp.gmail.com\"\n",
    "port = 587  # For starttls\n",
    "sender_email = \"lucasenkrateia@gmail.com\"  # Enter your email\n",
    "password = os.environ[\"GMAIL_PWD\"]\n",
    "\n",
    "def send_email(to, subject, body):\n",
    "    \"\"\"\n",
    "    Send an email using the configured sender email and SMTP settings\n",
    "    \n",
    "    Args:\n",
    "        to (str): Email address of the recipient\n",
    "        subject (str): Subject line of the email\n",
    "        body (str): Body text of the email\n",
    "    \"\"\"\n",
    "    # Create message\n",
    "    message = MIMEMultipart()\n",
    "    message[\"From\"] = sender_email\n",
    "    message[\"To\"] = to\n",
    "    message[\"Subject\"] = subject\n",
    "    message.attach(MIMEText(body, \"plain\"))\n",
    "\n",
    "    # Send email\n",
    "    try:\n",
    "        server = smtplib.SMTP(smtp_server, port)\n",
    "        server.starttls()  # Secure the connection\n",
    "        server.login(sender_email, password)\n",
    "        server.sendmail(sender_email, to, message.as_string())\n",
    "        print(\"Email sent successfully!\")\n",
    "    except Exception as e:\n",
    "        print(f\"Error: {e}\")\n",
    "    finally:\n",
    "        server.quit()\n",
    "\n",
    "# Example usage\n",
    "today_date = datetime.now().strftime('%d %B %Y')\n",
    "email_subject = f\"LUCAS IS LEARNING AND TEACHING\"\n",
    "email_body = f\"Hi Lucas! You are awesome, don't give up! Today's date is {today_date}.\"\n",
    "send_email(\"lucasbnsoares@hotmail.com\", email_subject, email_body)"
   ]
  },
  {
   "cell_type": "markdown",
   "metadata": {},
   "source": [
    "![](2024-12-02-18-14-58.png)"
   ]
  },
  {
   "cell_type": "code",
   "execution_count": 2,
   "metadata": {},
   "outputs": [
    {
     "name": "stdout",
     "output_type": "stream",
     "text": [
      "{'model': 'llama3.1', 'created_at': '2024-12-02T18:19:17.554671Z', 'message': {'role': 'assistant', 'content': '', 'tool_calls': [{'function': {'name': 'send_email', 'arguments': {'body': 'Hello!\\n\\nYou got this! Keep pushing forward and never give up on your dreams.\\n\\nBest regards,', 'subject': '', 'to': 'lucasbnsoares@hotmail.com'}}}]}, 'done_reason': 'stop', 'done': True, 'total_duration': 1373623292, 'load_duration': 31130709, 'prompt_eval_count': 164, 'prompt_eval_duration': 413000000, 'eval_count': 56, 'eval_duration': 927000000}\n"
     ]
    }
   ],
   "source": [
    "import ollama\n",
    "\n",
    "\n",
    "response = ollama.chat(\n",
    "    # model=\"\"\n",
    "    model=\"llama3.1\",\n",
    "    messages=[\n",
    "        {'role': 'system', 'content': 'You are a helpful assistant \\\n",
    "            that helps users craft and send their emails using the send_email tool.'},\n",
    "        {'role': 'user', 'content': 'Can you send an email \\\n",
    "            to lucasbnsoares@hotmail.com, containing a nice motivational message?\"'},\n",
    "    ],\n",
    "    tools=[{\n",
    "        'type': 'function',\n",
    "        'name': 'send_email',\n",
    "        'description': 'Send an email to a user, the input params are to,\\\n",
    "            subject and body.',\n",
    "        'parameters': {\n",
    "            'type': 'object',\n",
    "            'properties': {\n",
    "                'to': {\n",
    "                    'type': 'string',\n",
    "                    'description': 'The email address of the receiver',\n",
    "                },\n",
    "                'subject': {\n",
    "                    'type': 'string',\n",
    "                    'description': 'The subject of the email',\n",
    "                },\n",
    "                'body': {\n",
    "                    'type': 'string',\n",
    "                    'description': 'The body of the email',\n",
    "                }\n",
    "            },\n",
    "            'required': ['to', 'subject', 'body']\n",
    "        }\n",
    "    }]\n",
    ")\n",
    "\n",
    "print(response)"
   ]
  },
  {
   "cell_type": "code",
   "execution_count": 3,
   "metadata": {},
   "outputs": [
    {
     "data": {
      "text/plain": [
       "{'model': 'llama3.1',\n",
       " 'created_at': '2024-12-02T18:19:17.554671Z',\n",
       " 'message': {'role': 'assistant',\n",
       "  'content': '',\n",
       "  'tool_calls': [{'function': {'name': 'send_email',\n",
       "     'arguments': {'body': 'Hello!\\n\\nYou got this! Keep pushing forward and never give up on your dreams.\\n\\nBest regards,',\n",
       "      'subject': '',\n",
       "      'to': 'lucasbnsoares@hotmail.com'}}}]},\n",
       " 'done_reason': 'stop',\n",
       " 'done': True,\n",
       " 'total_duration': 1373623292,\n",
       " 'load_duration': 31130709,\n",
       " 'prompt_eval_count': 164,\n",
       " 'prompt_eval_duration': 413000000,\n",
       " 'eval_count': 56,\n",
       " 'eval_duration': 927000000}"
      ]
     },
     "execution_count": 3,
     "metadata": {},
     "output_type": "execute_result"
    }
   ],
   "source": [
    "response"
   ]
  },
  {
   "cell_type": "code",
   "execution_count": 4,
   "metadata": {},
   "outputs": [
    {
     "data": {
      "text/plain": [
       "[{'function': {'name': 'send_email',\n",
       "   'arguments': {'body': 'Hello!\\n\\nYou got this! Keep pushing forward and never give up on your dreams.\\n\\nBest regards,',\n",
       "    'subject': '',\n",
       "    'to': 'lucasbnsoares@hotmail.com'}}}]"
      ]
     },
     "execution_count": 4,
     "metadata": {},
     "output_type": "execute_result"
    }
   ],
   "source": [
    "response['message']['tool_calls']"
   ]
  },
  {
   "cell_type": "code",
   "execution_count": 5,
   "metadata": {},
   "outputs": [
    {
     "name": "stdout",
     "output_type": "stream",
     "text": [
      "Email sent successfully!\n",
      "Email sent to lucasbnsoares@hotmail.com with subject:  and body: Hello!\n",
      "\n",
      "You got this! Keep pushing forward and never give up on your dreams.\n",
      "\n",
      "Best regards,\n"
     ]
    }
   ],
   "source": [
    "def run_tool_calls(response):\n",
    "    tool_calls = response['message']['tool_calls']\n",
    "    for tool_call in tool_calls:\n",
    "        function_name = tool_call['function']['name']\n",
    "        arguments = tool_call['function']['arguments']\n",
    "        if function_name == 'send_email':\n",
    "            to = arguments['to']\n",
    "            subject = arguments['subject']\n",
    "            body = arguments['body']\n",
    "            send_email(to, subject, body)\n",
    "            print(f\"Email sent to {to} with subject: {subject} and body: {body}\")\n",
    "        else:\n",
    "            print(f\"Unknown tool call: {function_name}\")\n",
    "\n",
    "run_tool_calls(response)"
   ]
  },
  {
   "cell_type": "markdown",
   "metadata": {},
   "source": [
    "![](2024-12-02-18-22-41.png)"
   ]
  },
  {
   "cell_type": "markdown",
   "metadata": {},
   "source": [
    "# Using OpenAI API + Ollama"
   ]
  },
  {
   "cell_type": "code",
   "execution_count": 6,
   "metadata": {},
   "outputs": [],
   "source": [
    "from openai import OpenAI\n",
    "\n",
    "client = OpenAI(\n",
    "    base_url = 'http://localhost:11434/v1',\n",
    "    api_key='ollama', # required, but unused\n",
    ")"
   ]
  },
  {
   "cell_type": "code",
   "execution_count": 7,
   "metadata": {},
   "outputs": [],
   "source": [
    "messages = [\n",
    "    {\"role\": \"system\", \"content\": \"You are a helpful assistant that helps users craft and send their emails using the send_email tool.\"},\n",
    "    {\"role\": \"user\", \"content\": \"Can you send an email to lucasbnsoares@hotmail.com, containing 3 things you think are essential for someone to be a life long learner?\"}\n",
    "]"
   ]
  },
  {
   "cell_type": "code",
   "execution_count": 8,
   "metadata": {},
   "outputs": [
    {
     "name": "stdout",
     "output_type": "stream",
     "text": [
      "ChatCompletion(id='chatcmpl-993', choices=[Choice(finish_reason='tool_calls', index=0, logprobs=None, message=ChatCompletionMessage(content='', refusal=None, role='assistant', function_call=None, tool_calls=[ChatCompletionMessageToolCall(id='call_sc6x4ro7', function=Function(arguments='{\"body\":\"Curiosity, Open-Mindedness, and Self-Discipline are essential for someone to be a lifelong learner.\",\"subject\":\"Essential Qualities of a Lifelong Learner\",\"toAddress\":\"lucasbnsoares@hotmail.com\"}', name='send_email'), type='function')]))], created=1733149581, model='llama3.1', object='chat.completion', service_tier=None, system_fingerprint='fp_ollama', usage=CompletionUsage(completion_tokens=67, prompt_tokens=173, total_tokens=240))\n"
     ]
    }
   ],
   "source": [
    "tools=[{\n",
    "        'type': 'function',\n",
    "        'name': 'send_email',\n",
    "        'description': 'Send an email to a user, the input params are to, subject and body.',\n",
    "        'parameters': {\n",
    "            'type': 'object',\n",
    "            'properties': {\n",
    "                'to': {\n",
    "                    'type': 'string',\n",
    "                    'description': 'The email address of the receiver',\n",
    "                },\n",
    "                'subject': {\n",
    "                    'type': 'string',\n",
    "                    'description': 'The subject of the email',\n",
    "                },\n",
    "                'body': {\n",
    "                    'type': 'string',\n",
    "                    'description': 'The body of the email',\n",
    "                }\n",
    "            },\n",
    "            'required': ['to', 'subject', 'body']\n",
    "        }\n",
    "    }]\n",
    "\n",
    "\n",
    "\n",
    "response = client.chat.completions.create(model=\"llama3.1\", messages=messages, tools=tools)\n",
    "\n",
    "print(response)"
   ]
  },
  {
   "cell_type": "code",
   "execution_count": 9,
   "metadata": {},
   "outputs": [
    {
     "data": {
      "text/plain": [
       "ChatCompletion(id='chatcmpl-993', choices=[Choice(finish_reason='tool_calls', index=0, logprobs=None, message=ChatCompletionMessage(content='', refusal=None, role='assistant', function_call=None, tool_calls=[ChatCompletionMessageToolCall(id='call_sc6x4ro7', function=Function(arguments='{\"body\":\"Curiosity, Open-Mindedness, and Self-Discipline are essential for someone to be a lifelong learner.\",\"subject\":\"Essential Qualities of a Lifelong Learner\",\"toAddress\":\"lucasbnsoares@hotmail.com\"}', name='send_email'), type='function')]))], created=1733149581, model='llama3.1', object='chat.completion', service_tier=None, system_fingerprint='fp_ollama', usage=CompletionUsage(completion_tokens=67, prompt_tokens=173, total_tokens=240))"
      ]
     },
     "execution_count": 9,
     "metadata": {},
     "output_type": "execute_result"
    }
   ],
   "source": [
    "response"
   ]
  },
  {
   "cell_type": "code",
   "execution_count": 10,
   "metadata": {},
   "outputs": [
    {
     "data": {
      "text/plain": [
       "'{\"body\":\"Curiosity, Open-Mindedness, and Self-Discipline are essential for someone to be a lifelong learner.\",\"subject\":\"Essential Qualities of a Lifelong Learner\",\"toAddress\":\"lucasbnsoares@hotmail.com\"}'"
      ]
     },
     "execution_count": 10,
     "metadata": {},
     "output_type": "execute_result"
    }
   ],
   "source": [
    "response.choices[0].message.tool_calls[0].function.arguments"
   ]
  },
  {
   "cell_type": "code",
   "execution_count": null,
   "metadata": {},
   "outputs": [],
   "source": []
  }
 ],
 "metadata": {
  "kernelspec": {
   "display_name": "oreilly-llama3",
   "language": "python",
   "name": "oreilly-llama3"
  },
  "language_info": {
   "codemirror_mode": {
    "name": "ipython",
    "version": 3
   },
   "file_extension": ".py",
   "mimetype": "text/x-python",
   "name": "python",
   "nbconvert_exporter": "python",
   "pygments_lexer": "ipython3",
   "version": "3.10.14"
  }
 },
 "nbformat": 4,
 "nbformat_minor": 2
}
