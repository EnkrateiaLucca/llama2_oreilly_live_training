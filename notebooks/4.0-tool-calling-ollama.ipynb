{
 "cells": [
  {
   "cell_type": "code",
   "execution_count": null,
   "metadata": {},
   "outputs": [],
   "source": [
    "%pip install -U ollama openai"
   ]
  },
  {
   "cell_type": "markdown",
   "metadata": {},
   "source": [
    "# "
   ]
  },
  {
   "cell_type": "markdown",
   "metadata": {},
   "source": [
    "# Simple Tool Calling for LLM + GMAIL"
   ]
  },
  {
   "cell_type": "code",
   "execution_count": null,
   "metadata": {},
   "outputs": [],
   "source": [
    "import smtplib\n",
    "from email.mime.text import MIMEText\n",
    "from email.mime.multipart import MIMEMultipart\n",
    "import os\n",
    "from datetime import datetime\n",
    "\n",
    "# Email credentials and SMTP settings\n",
    "smtp_server = \"smtp.gmail.com\"\n",
    "port = 587  # For starttls\n",
    "sender_email = \"lucasenkrateia@gmail.com\"  # Enter your email\n",
    "password = os.environ[\"GMAIL_PWD\"]\n",
    "\n",
    "def send_email(to, subject, body):\n",
    "    \"\"\"\n",
    "    Send an email using the configured sender email and SMTP settings\n",
    "    \n",
    "    Args:\n",
    "        to (str): Email address of the recipient\n",
    "        subject (str): Subject line of the email\n",
    "        body (str): Body text of the email\n",
    "    \"\"\"\n",
    "    # Create message\n",
    "    message = MIMEMultipart()\n",
    "    message[\"From\"] = sender_email\n",
    "    message[\"To\"] = to\n",
    "    message[\"Subject\"] = subject\n",
    "    message.attach(MIMEText(body, \"plain\"))\n",
    "\n",
    "    # Send email\n",
    "    try:\n",
    "        server = smtplib.SMTP(smtp_server, port)\n",
    "        server.starttls()  # Secure the connection\n",
    "        server.login(sender_email, password)\n",
    "        server.sendmail(sender_email, to, message.as_string())\n",
    "        print(\"Email sent successfully!\")\n",
    "    except Exception as e:\n",
    "        print(f\"Error: {e}\")\n",
    "    finally:\n",
    "        server.quit()\n",
    "\n",
    "# Example usage\n",
    "# today_date = datetime.now().strftime('%d %B %Y')\n",
    "# email_subject = f\"LUCAS IS LEARNING AND TEACHING\"\n",
    "# email_body = f\"Hi Lucas! You are awesome, don't give up! Today's date is {today_date}.\"\n",
    "# send_email(\"lucasbnsoares@hotmail.com\", email_subject, email_body)"
   ]
  },
  {
   "cell_type": "markdown",
   "metadata": {},
   "source": [
    "![](./assets-resources/2024-12-02-18-14-58.png)\n"
   ]
  },
  {
   "cell_type": "code",
   "execution_count": 2,
   "metadata": {},
   "outputs": [
    {
     "name": "stdout",
     "output_type": "stream",
     "text": [
      "{'model': 'llama3.1', 'created_at': '2025-03-12T18:05:35.455489Z', 'message': {'role': 'assistant', 'content': '', 'tool_calls': [{'function': {'name': 'send_email', 'arguments': {'body': 'Hello, you are doing great! Keep it up!', 'subject': '', 'to': 'lucasbnsoares@hotmail.com'}}}]}, 'done_reason': 'stop', 'done': True, 'total_duration': 1964780416, 'load_duration': 566941541, 'prompt_eval_count': 164, 'prompt_eval_duration': 412000000, 'eval_count': 43, 'eval_duration': 683000000}\n"
     ]
    }
   ],
   "source": [
    "import ollama\n",
    "\n",
    "\n",
    "response = ollama.chat(\n",
    "    # model=\"\"\n",
    "    model=\"llama3.1\",\n",
    "    messages=[\n",
    "        {'role': 'system', 'content': 'You are a helpful assistant \\\n",
    "            that helps users craft and send their emails using the send_email tool.'},\n",
    "        {'role': 'user', 'content': 'Can you send an email \\\n",
    "            to lucasbnsoares@hotmail.com, containing a nice motivational message?\"'},\n",
    "    ],\n",
    "    tools=[{\n",
    "        'type': 'function',\n",
    "        'name': 'send_email',\n",
    "        'description': 'Send an email to a user, the input params are to,\\\n",
    "            subject and body.',\n",
    "        'parameters': {\n",
    "            'type': 'object',\n",
    "            'properties': {\n",
    "                'to': {\n",
    "                    'type': 'string',\n",
    "                    'description': 'The email address of the receiver',\n",
    "                },\n",
    "                'subject': {\n",
    "                    'type': 'string',\n",
    "                    'description': 'The subject of the email',\n",
    "                },\n",
    "                'body': {\n",
    "                    'type': 'string',\n",
    "                    'description': 'The body of the email',\n",
    "                }\n",
    "            },\n",
    "            'required': ['to', 'subject', 'body']\n",
    "        }\n",
    "    }]\n",
    ")\n",
    "\n",
    "print(response)"
   ]
  },
  {
   "cell_type": "code",
   "execution_count": 3,
   "metadata": {},
   "outputs": [
    {
     "data": {
      "text/plain": [
       "{'model': 'llama3.1',\n",
       " 'created_at': '2025-03-12T18:05:35.455489Z',\n",
       " 'message': {'role': 'assistant',\n",
       "  'content': '',\n",
       "  'tool_calls': [{'function': {'name': 'send_email',\n",
       "     'arguments': {'body': 'Hello, you are doing great! Keep it up!',\n",
       "      'subject': '',\n",
       "      'to': 'lucasbnsoares@hotmail.com'}}}]},\n",
       " 'done_reason': 'stop',\n",
       " 'done': True,\n",
       " 'total_duration': 1964780416,\n",
       " 'load_duration': 566941541,\n",
       " 'prompt_eval_count': 164,\n",
       " 'prompt_eval_duration': 412000000,\n",
       " 'eval_count': 43,\n",
       " 'eval_duration': 683000000}"
      ]
     },
     "execution_count": 3,
     "metadata": {},
     "output_type": "execute_result"
    }
   ],
   "source": [
    "response"
   ]
  },
  {
   "cell_type": "code",
   "execution_count": 4,
   "metadata": {},
   "outputs": [
    {
     "data": {
      "text/plain": [
       "[{'function': {'name': 'send_email',\n",
       "   'arguments': {'body': 'Hello, you are doing great! Keep it up!',\n",
       "    'subject': '',\n",
       "    'to': 'lucasbnsoares@hotmail.com'}}}]"
      ]
     },
     "execution_count": 4,
     "metadata": {},
     "output_type": "execute_result"
    }
   ],
   "source": [
    "response['message']['tool_calls']"
   ]
  },
  {
   "cell_type": "code",
   "execution_count": 5,
   "metadata": {},
   "outputs": [
    {
     "name": "stdout",
     "output_type": "stream",
     "text": [
      "Email sent successfully!\n",
      "Email sent to lucasbnsoares@hotmail.com with subject:  and body: Hello, you are doing great! Keep it up!\n"
     ]
    }
   ],
   "source": [
    "def run_tool_calls(response):\n",
    "    tool_calls = response['message']['tool_calls']\n",
    "    for tool_call in tool_calls:\n",
    "        function_name = tool_call['function']['name']\n",
    "        arguments = tool_call['function']['arguments']\n",
    "        if function_name == 'send_email':\n",
    "            to = arguments['to']\n",
    "            subject = arguments['subject']\n",
    "            body = arguments['body']\n",
    "            send_email(to, subject, body)\n",
    "            print(f\"Email sent to {to} with subject: {subject} and body: {body}\")\n",
    "        else:\n",
    "            print(f\"Unknown tool call: {function_name}\")\n",
    "\n",
    "run_tool_calls(response)"
   ]
  },
  {
   "cell_type": "markdown",
   "metadata": {},
   "source": [
    "![](2025-03-12-18-08-50.png)"
   ]
  },
  {
   "cell_type": "markdown",
   "metadata": {},
   "source": [
    "# Using OpenAI API + Ollama"
   ]
  },
  {
   "cell_type": "code",
   "execution_count": 6,
   "metadata": {},
   "outputs": [],
   "source": [
    "from openai import OpenAI \n",
    "\n",
    "client = OpenAI()"
   ]
  },
  {
   "cell_type": "code",
   "execution_count": 7,
   "metadata": {},
   "outputs": [
    {
     "data": {
      "text/plain": [
       "ChatCompletion(id='chatcmpl-BAKqAQMtnc9QvSyfU9bzz3MjoB0o5', choices=[Choice(finish_reason='stop', index=0, logprobs=None, message=ChatCompletionMessage(content='I’m unable to send emails directly. However, I can help you draft an email that you can send yourself. Here’s a suggestion for your email:\\n\\n---\\n\\nSubject: Key Traits for Lifelong Learning\\n\\nHi Lucas,\\n\\nI hope this message finds you well. I wanted to share some thoughts on what I believe are essential traits for becoming a lifelong learner.\\n\\n1. **Curiosity**: A strong desire to learn and understand new things is crucial. Curiosity drives you to explore subjects beyond your current knowledge and encourages continuous growth.\\n\\n2. **Adaptability**: The ability to adapt to new information and changing circumstances is key. Being open to change and willing to update your beliefs and skills keeps you relevant in an ever-evolving world.\\n\\n3. **Persistence**: Lifelong learning is a journey with challenges along the way. Persistence helps you push through difficulties and maintain your motivation to learn, even when the going gets tough.\\n\\nI hope you find these thoughts helpful on your learning journey!\\n\\nBest,\\n[Your Name]\\n\\n---\\n\\nFeel free to personalize it further before sending!', refusal=None, role='assistant', function_call=None, tool_calls=None, annotations=[]))], created=1741803090, model='gpt-4o-2024-08-06', object='chat.completion', service_tier='default', system_fingerprint='fp_eb9dce56a8', usage=CompletionUsage(completion_tokens=215, prompt_tokens=38, total_tokens=253, prompt_tokens_details={'cached_tokens': 0, 'audio_tokens': 0}, completion_tokens_details={'reasoning_tokens': 0, 'audio_tokens': 0, 'accepted_prediction_tokens': 0, 'rejected_prediction_tokens': 0}))"
      ]
     },
     "execution_count": 7,
     "metadata": {},
     "output_type": "execute_result"
    }
   ],
   "source": [
    "response = client.chat.completions.create(\n",
    "    model=\"gpt-4o\",\n",
    "    messages=[\n",
    "        {\"role\": \"user\", \"content\": \"Can you send an email to lucasbnsoares@hotmail.com, containing 3 things you think are essential for someone to be a life long learner?\"}\n",
    "    ],\n",
    ")\n",
    "\n",
    "response"
   ]
  },
  {
   "cell_type": "code",
   "execution_count": 8,
   "metadata": {},
   "outputs": [],
   "source": [
    "from openai import OpenAI\n",
    "\n",
    "client = OpenAI(\n",
    "    base_url = 'http://localhost:11434/v1',\n",
    "    api_key='ollama', # required, but unused\n",
    ")"
   ]
  },
  {
   "cell_type": "code",
   "execution_count": 9,
   "metadata": {},
   "outputs": [],
   "source": [
    "messages = [\n",
    "    {\"role\": \"system\", \"content\": \"You are a helpful assistant that helps users craft and send their emails using the send_email tool.\"},\n",
    "    {\"role\": \"user\", \"content\": \"Can you send an email to lucasbnsoares@hotmail.com, containing 3 things you think are essential for someone to be a life long learner?\"}\n",
    "]"
   ]
  },
  {
   "cell_type": "code",
   "execution_count": 10,
   "metadata": {},
   "outputs": [
    {
     "name": "stdout",
     "output_type": "stream",
     "text": [
      "ChatCompletion(id='chatcmpl-911', choices=[Choice(finish_reason='tool_calls', index=0, logprobs=None, message=ChatCompletionMessage(content='', refusal=None, role='assistant', function_call=None, tool_calls=[ChatCompletionMessageToolCall(id='call_kq78uj2f', function=Function(arguments='{\"body\":\"[3 things we believe are essential for someone to be a lifelong learner: Curiosity, Desire, and Resilience]\",\"subject\":null,\"to_name\":\"lucasbnsoares@hotmail.com\"}', name='send_email'), type='function', index=0)]))], created=1741803154, model='llama3.1', object='chat.completion', service_tier=None, system_fingerprint='fp_ollama', usage=CompletionUsage(completion_tokens=58, prompt_tokens=173, total_tokens=231))\n"
     ]
    }
   ],
   "source": [
    "tools=[{\n",
    "        'type': 'function',\n",
    "        'name': 'send_email',\n",
    "        'description': 'Send an email to a user, the input params are to, subject and body.',\n",
    "        'parameters': {\n",
    "            'type': 'object',\n",
    "            'properties': {\n",
    "                'to': {\n",
    "                    'type': 'string',\n",
    "                    'description': 'The email address of the receiver',\n",
    "                },\n",
    "                'subject': {\n",
    "                    'type': 'string',\n",
    "                    'description': 'The subject of the email',\n",
    "                },\n",
    "                'body': {\n",
    "                    'type': 'string',\n",
    "                    'description': 'The body of the email',\n",
    "                }\n",
    "            },\n",
    "            'required': ['to', 'subject', 'body']\n",
    "        }\n",
    "    }]\n",
    "\n",
    "\n",
    "\n",
    "response = client.chat.completions.create(model=\"llama3.1\", messages=messages, tools=tools)\n",
    "\n",
    "print(response)"
   ]
  },
  {
   "cell_type": "code",
   "execution_count": 11,
   "metadata": {},
   "outputs": [
    {
     "data": {
      "text/plain": [
       "ChatCompletion(id='chatcmpl-911', choices=[Choice(finish_reason='tool_calls', index=0, logprobs=None, message=ChatCompletionMessage(content='', refusal=None, role='assistant', function_call=None, tool_calls=[ChatCompletionMessageToolCall(id='call_kq78uj2f', function=Function(arguments='{\"body\":\"[3 things we believe are essential for someone to be a lifelong learner: Curiosity, Desire, and Resilience]\",\"subject\":null,\"to_name\":\"lucasbnsoares@hotmail.com\"}', name='send_email'), type='function', index=0)]))], created=1741803154, model='llama3.1', object='chat.completion', service_tier=None, system_fingerprint='fp_ollama', usage=CompletionUsage(completion_tokens=58, prompt_tokens=173, total_tokens=231))"
      ]
     },
     "execution_count": 11,
     "metadata": {},
     "output_type": "execute_result"
    }
   ],
   "source": [
    "response"
   ]
  },
  {
   "cell_type": "code",
   "execution_count": 12,
   "metadata": {},
   "outputs": [
    {
     "data": {
      "text/plain": [
       "'{\"body\":\"[3 things we believe are essential for someone to be a lifelong learner: Curiosity, Desire, and Resilience]\",\"subject\":null,\"to_name\":\"lucasbnsoares@hotmail.com\"}'"
      ]
     },
     "execution_count": 12,
     "metadata": {},
     "output_type": "execute_result"
    }
   ],
   "source": [
    "response.choices[0].message.tool_calls[0].function.arguments"
   ]
  },
  {
   "cell_type": "code",
   "execution_count": null,
   "metadata": {},
   "outputs": [],
   "source": []
  }
 ],
 "metadata": {
  "kernelspec": {
   "display_name": "oreilly-llama3",
   "language": "python",
   "name": "oreilly-llama3"
  },
  "language_info": {
   "codemirror_mode": {
    "name": "ipython",
    "version": 3
   },
   "file_extension": ".py",
   "mimetype": "text/x-python",
   "name": "python",
   "nbconvert_exporter": "python",
   "pygments_lexer": "ipython3",
   "version": "3.10.14"
  }
 },
 "nbformat": 4,
 "nbformat_minor": 2
}
